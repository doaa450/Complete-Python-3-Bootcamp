{
  "nbformat": 4,
  "nbformat_minor": 0,
  "metadata": {
    "colab": {
      "name": "Air Plane Passengers.ipynb",
      "provenance": [],
      "collapsed_sections": [],
      "include_colab_link": true
    },
    "kernelspec": {
      "name": "python3",
      "display_name": "Python 3"
    }
  },
  "cells": [
    {
      "cell_type": "markdown",
      "metadata": {
        "id": "view-in-github",
        "colab_type": "text"
      },
      "source": [
        "<a href=\"https://colab.research.google.com/github/doaa450/Complete-Python-3-Bootcamp/blob/master/Air_Plane_Passengers.ipynb\" target=\"_parent\"><img src=\"https://colab.research.google.com/assets/colab-badge.svg\" alt=\"Open In Colab\"/></a>"
      ]
    },
    {
      "cell_type": "code",
      "metadata": {
        "id": "so7TESWVBzel",
        "colab_type": "code",
        "colab": {
          "base_uri": "https://localhost:8080/",
          "height": 34
        },
        "outputId": "d62bea72-dcc0-4505-9053-a602d9cd22b7"
      },
      "source": [
        "import pandas as pd\n",
        "import numpy as np\n",
        "import math\n",
        "import matplotlib.pyplot as plt\n",
        "from keras.models import Sequential\n",
        "from keras.layers import Dense\n",
        "from keras.layers import LSTM\n",
        "from sklearn.preprocessing import MinMaxScaler\n",
        "from sklearn.metrics import mean_squared_error"
      ],
      "execution_count": null,
      "outputs": [
        {
          "output_type": "stream",
          "text": [
            "Using TensorFlow backend.\n"
          ],
          "name": "stderr"
        }
      ]
    },
    {
      "cell_type": "code",
      "metadata": {
        "id": "3fTl_lSsB9Eg",
        "colab_type": "code",
        "colab": {}
      },
      "source": [
        "def create_dataset(dataset, lookback=1):\n",
        "    dataX = []\n",
        "    dataY = []\n",
        "    for i in range(len(dataset) - lookback - 1):\n",
        "        a = dataset[i: (i+lookback), 0]\n",
        "        dataX.append(a)\n",
        "        dataY.append(dataset[i+lookback,0])\n",
        "    return np.array(dataX), np.array(dataY)"
      ],
      "execution_count": null,
      "outputs": []
    },
    {
      "cell_type": "code",
      "metadata": {
        "id": "ljHc42YZGOgF",
        "colab_type": "code",
        "colab": {
          "base_uri": "https://localhost:8080/",
          "height": 118
        },
        "outputId": "b1611be5-2bd2-45d4-e463-824bdd3873f0"
      },
      "source": [
        "!gdown --id \"1HrjgPIdJnZNHnYeBRwX0jN7EiMqV-6Gm\"\n",
        "!unzip \"international-airline-passengers.zip\""
      ],
      "execution_count": null,
      "outputs": [
        {
          "output_type": "stream",
          "text": [
            "Downloading...\n",
            "From: https://drive.google.com/uc?id=1HrjgPIdJnZNHnYeBRwX0jN7EiMqV-6Gm\n",
            "To: /content/international-airline-passengers.zip\n",
            "\r  0% 0.00/783 [00:00<?, ?B/s]\r100% 783/783 [00:00<00:00, 1.42MB/s]\n",
            "Archive:  international-airline-passengers.zip\n",
            "  inflating: international-airline-passengers.csv  \n"
          ],
          "name": "stdout"
        }
      ]
    },
    {
      "cell_type": "code",
      "metadata": {
        "id": "0QcLliYoB-yc",
        "colab_type": "code",
        "colab": {}
      },
      "source": [
        "data = \"./international-airline-passengers.csv\"\n",
        "\n",
        "np.random.seed(7)\n",
        "\n",
        "df = pd.read_csv(data, usecols=[1])\n",
        "df = df.dropna()\n",
        "dataset = df.values\n",
        "dataset = dataset.astype(\"float32\")\n",
        "\n",
        "scaler = MinMaxScaler(feature_range=(0,1))\n",
        "dataset = scaler.fit_transform(dataset)\n",
        "\n",
        "train_dataset = dataset[:int(len(dataset)*0.7), :] # 70 % Training\n",
        "test_dataset = dataset[int(len(dataset)*0.7):, :]  # 30 % Test\n",
        "\n",
        "lookback = 10\n",
        "trainX, trainY = create_dataset(train_dataset, lookback)\n",
        "testX, testY = create_dataset(test_dataset, lookback)\n",
        "\n",
        "trainX = np.reshape(trainX, (trainX.shape[0], 1, trainX.shape[1]))\n",
        "testX = np.reshape(testX, (testX.shape[0], 1, testX.shape[1]))\n"
      ],
      "execution_count": null,
      "outputs": []
    },
    {
      "cell_type": "code",
      "metadata": {
        "id": "q7V8qvHDNkhB",
        "colab_type": "code",
        "colab": {
          "base_uri": "https://localhost:8080/",
          "height": 269
        },
        "outputId": "622908e3-54b8-4e6e-e0b4-704bad510219"
      },
      "source": [
        "trainX[:5]"
      ],
      "execution_count": null,
      "outputs": [
        {
          "output_type": "execute_result",
          "data": {
            "text/plain": [
              "array([[[0.01544401, 0.02702703, 0.05405405, 0.04826255, 0.03281853,\n",
              "         0.05984557, 0.08494207, 0.08494207, 0.06177607, 0.02895753]],\n",
              "\n",
              "       [[0.02702703, 0.05405405, 0.04826255, 0.03281853, 0.05984557,\n",
              "         0.08494207, 0.08494207, 0.06177607, 0.02895753, 0.        ]],\n",
              "\n",
              "       [[0.05405405, 0.04826255, 0.03281853, 0.05984557, 0.08494207,\n",
              "         0.08494207, 0.06177607, 0.02895753, 0.        , 0.02702703]],\n",
              "\n",
              "       [[0.04826255, 0.03281853, 0.05984557, 0.08494207, 0.08494207,\n",
              "         0.06177607, 0.02895753, 0.        , 0.02702703, 0.02123553]],\n",
              "\n",
              "       [[0.03281853, 0.05984557, 0.08494207, 0.08494207, 0.06177607,\n",
              "         0.02895753, 0.        , 0.02702703, 0.02123553, 0.04247104]]],\n",
              "      dtype=float32)"
            ]
          },
          "metadata": {
            "tags": []
          },
          "execution_count": 17
        }
      ]
    },
    {
      "cell_type": "code",
      "metadata": {
        "id": "d3kOePM-MrFx",
        "colab_type": "code",
        "colab": {
          "base_uri": "https://localhost:8080/",
          "height": 50
        },
        "outputId": "6b7d8d34-89f9-4482-c49e-691bc53d5ac2"
      },
      "source": [
        "trainY[:5]"
      ],
      "execution_count": null,
      "outputs": [
        {
          "output_type": "execute_result",
          "data": {
            "text/plain": [
              "array([0.        , 0.02702703, 0.02123553, 0.04247104, 0.07142857],\n",
              "      dtype=float32)"
            ]
          },
          "metadata": {
            "tags": []
          },
          "execution_count": 18
        }
      ]
    },
    {
      "cell_type": "code",
      "metadata": {
        "id": "UEtGDaQyCLSZ",
        "colab_type": "code",
        "colab": {
          "base_uri": "https://localhost:8080/",
          "height": 1000
        },
        "outputId": "de2464dc-c816-4912-c98b-bf7754ecd72c"
      },
      "source": [
        "model = Sequential()\n",
        "model.add(LSTM(4, input_shape=(1, lookback)))\n",
        "model.add(Dense(1))\n",
        "model.compile(loss='mean_squared_error', optimizer='adam')\n",
        "model.fit(trainX, trainY, epochs=100, batch_size=1, verbose=1)\n"
      ],
      "execution_count": null,
      "outputs": [
        {
          "output_type": "stream",
          "text": [
            "Epoch 1/100\n",
            "89/89 [==============================] - 0s 5ms/step - loss: 0.0109\n",
            "Epoch 2/100\n",
            "89/89 [==============================] - 0s 2ms/step - loss: 0.0046\n",
            "Epoch 3/100\n",
            "89/89 [==============================] - 0s 1ms/step - loss: 0.0043\n",
            "Epoch 4/100\n",
            "89/89 [==============================] - 0s 1ms/step - loss: 0.0041\n",
            "Epoch 5/100\n",
            "89/89 [==============================] - 0s 1ms/step - loss: 0.0042\n",
            "Epoch 6/100\n",
            "89/89 [==============================] - 0s 1ms/step - loss: 0.0040\n",
            "Epoch 7/100\n",
            "89/89 [==============================] - 0s 1ms/step - loss: 0.0038\n",
            "Epoch 8/100\n",
            "89/89 [==============================] - 0s 1ms/step - loss: 0.0037\n",
            "Epoch 9/100\n",
            "89/89 [==============================] - 0s 1ms/step - loss: 0.0037\n",
            "Epoch 10/100\n",
            "89/89 [==============================] - 0s 1ms/step - loss: 0.0035\n",
            "Epoch 11/100\n",
            "89/89 [==============================] - 0s 1ms/step - loss: 0.0035\n",
            "Epoch 12/100\n",
            "89/89 [==============================] - 0s 1ms/step - loss: 0.0035\n",
            "Epoch 13/100\n",
            "89/89 [==============================] - 0s 1ms/step - loss: 0.0031\n",
            "Epoch 14/100\n",
            "89/89 [==============================] - 0s 1ms/step - loss: 0.0035\n",
            "Epoch 15/100\n",
            "89/89 [==============================] - 0s 1ms/step - loss: 0.0032\n",
            "Epoch 16/100\n",
            "89/89 [==============================] - 0s 1ms/step - loss: 0.0032\n",
            "Epoch 17/100\n",
            "89/89 [==============================] - 0s 1ms/step - loss: 0.0031\n",
            "Epoch 18/100\n",
            "89/89 [==============================] - 0s 1ms/step - loss: 0.0030\n",
            "Epoch 19/100\n",
            "89/89 [==============================] - 0s 2ms/step - loss: 0.0030\n",
            "Epoch 20/100\n",
            "89/89 [==============================] - 0s 1ms/step - loss: 0.0032\n",
            "Epoch 21/100\n",
            "89/89 [==============================] - 0s 1ms/step - loss: 0.0029\n",
            "Epoch 22/100\n",
            "89/89 [==============================] - 0s 1ms/step - loss: 0.0030\n",
            "Epoch 23/100\n",
            "89/89 [==============================] - 0s 2ms/step - loss: 0.0028\n",
            "Epoch 24/100\n",
            "89/89 [==============================] - 0s 1ms/step - loss: 0.0028\n",
            "Epoch 25/100\n",
            "89/89 [==============================] - 0s 1ms/step - loss: 0.0027\n",
            "Epoch 26/100\n",
            "89/89 [==============================] - 0s 1ms/step - loss: 0.0027\n",
            "Epoch 27/100\n",
            "89/89 [==============================] - 0s 1ms/step - loss: 0.0027\n",
            "Epoch 28/100\n",
            "89/89 [==============================] - 0s 1ms/step - loss: 0.0026\n",
            "Epoch 29/100\n",
            "89/89 [==============================] - 0s 1ms/step - loss: 0.0026\n",
            "Epoch 30/100\n",
            "89/89 [==============================] - 0s 1ms/step - loss: 0.0025\n",
            "Epoch 31/100\n",
            "89/89 [==============================] - 0s 2ms/step - loss: 0.0026\n",
            "Epoch 32/100\n",
            "89/89 [==============================] - 0s 2ms/step - loss: 0.0026\n",
            "Epoch 33/100\n",
            "89/89 [==============================] - 0s 1ms/step - loss: 0.0024\n",
            "Epoch 34/100\n",
            "89/89 [==============================] - 0s 1ms/step - loss: 0.0025\n",
            "Epoch 35/100\n",
            "89/89 [==============================] - 0s 1ms/step - loss: 0.0024\n",
            "Epoch 36/100\n",
            "89/89 [==============================] - 0s 1ms/step - loss: 0.0023\n",
            "Epoch 37/100\n",
            "89/89 [==============================] - 0s 1ms/step - loss: 0.0023\n",
            "Epoch 38/100\n",
            "89/89 [==============================] - 0s 2ms/step - loss: 0.0023\n",
            "Epoch 39/100\n",
            "89/89 [==============================] - 0s 1ms/step - loss: 0.0022\n",
            "Epoch 40/100\n",
            "89/89 [==============================] - 0s 1ms/step - loss: 0.0023\n",
            "Epoch 41/100\n",
            "89/89 [==============================] - 0s 1ms/step - loss: 0.0022\n",
            "Epoch 42/100\n",
            "89/89 [==============================] - 0s 1ms/step - loss: 0.0022\n",
            "Epoch 43/100\n",
            "89/89 [==============================] - 0s 1ms/step - loss: 0.0021\n",
            "Epoch 44/100\n",
            "89/89 [==============================] - 0s 2ms/step - loss: 0.0022\n",
            "Epoch 45/100\n",
            "89/89 [==============================] - 0s 2ms/step - loss: 0.0023\n",
            "Epoch 46/100\n",
            "89/89 [==============================] - 0s 2ms/step - loss: 0.0021\n",
            "Epoch 47/100\n",
            "89/89 [==============================] - 0s 1ms/step - loss: 0.0021\n",
            "Epoch 48/100\n",
            "89/89 [==============================] - 0s 1ms/step - loss: 0.0021\n",
            "Epoch 49/100\n",
            "89/89 [==============================] - 0s 1ms/step - loss: 0.0021\n",
            "Epoch 50/100\n",
            "89/89 [==============================] - 0s 1ms/step - loss: 0.0020\n",
            "Epoch 51/100\n",
            "89/89 [==============================] - 0s 1ms/step - loss: 0.0020\n",
            "Epoch 52/100\n",
            "89/89 [==============================] - 0s 1ms/step - loss: 0.0020\n",
            "Epoch 53/100\n",
            "89/89 [==============================] - 0s 1ms/step - loss: 0.0019\n",
            "Epoch 54/100\n",
            "89/89 [==============================] - 0s 2ms/step - loss: 0.0019\n",
            "Epoch 55/100\n",
            "89/89 [==============================] - 0s 2ms/step - loss: 0.0019\n",
            "Epoch 56/100\n",
            "89/89 [==============================] - 0s 1ms/step - loss: 0.0020\n",
            "Epoch 57/100\n",
            "89/89 [==============================] - 0s 1ms/step - loss: 0.0019\n",
            "Epoch 58/100\n",
            "89/89 [==============================] - 0s 1ms/step - loss: 0.0018\n",
            "Epoch 59/100\n",
            "89/89 [==============================] - 0s 1ms/step - loss: 0.0018\n",
            "Epoch 60/100\n",
            "89/89 [==============================] - 0s 1ms/step - loss: 0.0019\n",
            "Epoch 61/100\n",
            "89/89 [==============================] - 0s 1ms/step - loss: 0.0019\n",
            "Epoch 62/100\n",
            "89/89 [==============================] - 0s 2ms/step - loss: 0.0018\n",
            "Epoch 63/100\n",
            "89/89 [==============================] - 0s 1ms/step - loss: 0.0017\n",
            "Epoch 64/100\n",
            "89/89 [==============================] - 0s 1ms/step - loss: 0.0018\n",
            "Epoch 65/100\n",
            "89/89 [==============================] - 0s 1ms/step - loss: 0.0018\n",
            "Epoch 66/100\n",
            "89/89 [==============================] - 0s 1ms/step - loss: 0.0017\n",
            "Epoch 67/100\n",
            "89/89 [==============================] - 0s 1ms/step - loss: 0.0017\n",
            "Epoch 68/100\n",
            "89/89 [==============================] - 0s 1ms/step - loss: 0.0017\n",
            "Epoch 69/100\n",
            "89/89 [==============================] - 0s 1ms/step - loss: 0.0017\n",
            "Epoch 70/100\n",
            "89/89 [==============================] - 0s 1ms/step - loss: 0.0016\n",
            "Epoch 71/100\n",
            "89/89 [==============================] - 0s 1ms/step - loss: 0.0017\n",
            "Epoch 72/100\n",
            "89/89 [==============================] - 0s 2ms/step - loss: 0.0017\n",
            "Epoch 73/100\n",
            "89/89 [==============================] - 0s 2ms/step - loss: 0.0017\n",
            "Epoch 74/100\n",
            "89/89 [==============================] - 0s 2ms/step - loss: 0.0017\n",
            "Epoch 75/100\n",
            "89/89 [==============================] - 0s 2ms/step - loss: 0.0016\n",
            "Epoch 76/100\n",
            "89/89 [==============================] - 0s 2ms/step - loss: 0.0017\n",
            "Epoch 77/100\n",
            "89/89 [==============================] - 0s 2ms/step - loss: 0.0016\n",
            "Epoch 78/100\n",
            "89/89 [==============================] - 0s 1ms/step - loss: 0.0015\n",
            "Epoch 79/100\n",
            "89/89 [==============================] - 0s 1ms/step - loss: 0.0016\n",
            "Epoch 80/100\n",
            "89/89 [==============================] - 0s 1ms/step - loss: 0.0017\n",
            "Epoch 81/100\n",
            "89/89 [==============================] - 0s 1ms/step - loss: 0.0016\n",
            "Epoch 82/100\n",
            "89/89 [==============================] - 0s 1ms/step - loss: 0.0016\n",
            "Epoch 83/100\n",
            "89/89 [==============================] - 0s 1ms/step - loss: 0.0016\n",
            "Epoch 84/100\n",
            "89/89 [==============================] - 0s 1ms/step - loss: 0.0016\n",
            "Epoch 85/100\n",
            "89/89 [==============================] - 0s 2ms/step - loss: 0.0015\n",
            "Epoch 86/100\n",
            "89/89 [==============================] - 0s 2ms/step - loss: 0.0016\n",
            "Epoch 87/100\n",
            "89/89 [==============================] - 0s 2ms/step - loss: 0.0015\n",
            "Epoch 88/100\n",
            "89/89 [==============================] - 0s 2ms/step - loss: 0.0015\n",
            "Epoch 89/100\n",
            "89/89 [==============================] - 0s 2ms/step - loss: 0.0015\n",
            "Epoch 90/100\n",
            "89/89 [==============================] - 0s 2ms/step - loss: 0.0015\n",
            "Epoch 91/100\n",
            "89/89 [==============================] - 0s 1ms/step - loss: 0.0016\n",
            "Epoch 92/100\n",
            "89/89 [==============================] - 0s 1ms/step - loss: 0.0015\n",
            "Epoch 93/100\n",
            "89/89 [==============================] - 0s 2ms/step - loss: 0.0016\n",
            "Epoch 94/100\n",
            "89/89 [==============================] - 0s 2ms/step - loss: 0.0015\n",
            "Epoch 95/100\n",
            "89/89 [==============================] - 0s 2ms/step - loss: 0.0015\n",
            "Epoch 96/100\n",
            "89/89 [==============================] - 0s 2ms/step - loss: 0.0015\n",
            "Epoch 97/100\n",
            "89/89 [==============================] - 0s 2ms/step - loss: 0.0015\n",
            "Epoch 98/100\n",
            "89/89 [==============================] - 0s 2ms/step - loss: 0.0016\n",
            "Epoch 99/100\n",
            "89/89 [==============================] - 0s 1ms/step - loss: 0.0016\n",
            "Epoch 100/100\n",
            "89/89 [==============================] - 0s 1ms/step - loss: 0.0015\n"
          ],
          "name": "stdout"
        },
        {
          "output_type": "execute_result",
          "data": {
            "text/plain": [
              "<keras.callbacks.callbacks.History at 0x7fecf007a208>"
            ]
          },
          "metadata": {
            "tags": []
          },
          "execution_count": 19
        }
      ]
    },
    {
      "cell_type": "code",
      "metadata": {
        "id": "xJEf9aGFCN64",
        "colab_type": "code",
        "colab": {
          "base_uri": "https://localhost:8080/",
          "height": 313
        },
        "outputId": "28e4381f-985b-429d-bc1e-126be46f9ef8"
      },
      "source": [
        "# make predictions\n",
        "trainPredict = model.predict(trainX)\n",
        "testPredict = model.predict(testX)\n",
        "# invert predictions\n",
        "trainPredict = scaler.inverse_transform(trainPredict)\n",
        "trainY = scaler.inverse_transform([trainY])\n",
        "testPredict = scaler.inverse_transform(testPredict)\n",
        "testY = scaler.inverse_transform([testY])\n",
        "# calculate root mean squared error\n",
        "trainScore = math.sqrt(mean_squared_error(trainY[0], trainPredict[:,0]))\n",
        "print('Train Score: %.2f RMSE' % (trainScore))\n",
        "testScore = math.sqrt(mean_squared_error(testY[0], testPredict[:,0]))\n",
        "print('Test Score: %.2f RMSE' % (testScore))\n",
        "\n",
        "trainPredictPlot = np.empty_like(dataset)\n",
        "trainPredictPlot[:, :] = np.nan\n",
        "trainPredictPlot[lookback:len(trainPredict)+lookback, :] = trainPredict\n",
        "# shift test predictions for plotting\n",
        "testPredictPlot = np.empty_like(dataset)\n",
        "testPredictPlot[:, :] = np.nan\n",
        "testPredictPlot[len(trainPredict)+(lookback*2)+1:len(dataset)-1, :] = testPredict\n",
        "# plot baseline and predictions\n",
        "plt.plot(scaler.inverse_transform(dataset), label=\"Airlines Data\")\n",
        "plt.plot(trainPredictPlot, label=\"Train Prediction\")\n",
        "plt.plot(testPredictPlot, label=\"Test Prediction\")\n",
        "plt.xlabel(\"Observations\")\n",
        "plt.ylabel(\"Passengers\")\n",
        "plt.legend()\n",
        "plt.show()\n",
        "\n",
        "\n"
      ],
      "execution_count": null,
      "outputs": [
        {
          "output_type": "stream",
          "text": [
            "Train Score: 19.69 RMSE\n",
            "Test Score: 40.23 RMSE\n"
          ],
          "name": "stdout"
        },
        {
          "output_type": "display_data",
          "data": {
            "image/png": "[encoded data removed]",
            "text/plain": [
              "<Figure size 432x288 with 1 Axes>"
            ]
          },
          "metadata": {
            "tags": [],
            "needs_background": "light"
          }
        }
      ]
    },
    {
      "cell_type": "code",
      "metadata": {
        "id": "wgo9fJBAHW5x",
        "colab_type": "code",
        "colab": {}
      },
      "source": [
        ""
      ],
      "execution_count": null,
      "outputs": []
    }
  ]
}